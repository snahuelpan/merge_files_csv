{
 "cells": [
  {
   "cell_type": "code",
   "execution_count": 4,
   "metadata": {},
   "outputs": [
    {
     "data": {
      "text/plain": [
       "['VOL_MOD_1.csv',\n",
       " 'VOL_MOD_10.csv',\n",
       " 'VOL_MOD_11.csv',\n",
       " 'VOL_MOD_12.csv',\n",
       " 'VOL_MOD_2.csv',\n",
       " 'VOL_MOD_3.csv',\n",
       " 'VOL_MOD_4.csv',\n",
       " 'VOL_MOD_5.csv',\n",
       " 'VOL_MOD_6.csv',\n",
       " 'VOL_MOD_7.csv',\n",
       " 'VOL_MOD_8.csv',\n",
       " 'VOL_MOD_9.csv']"
      ]
     },
     "execution_count": 4,
     "metadata": {},
     "output_type": "execute_result"
    }
   ],
   "source": [
    "#import the modules\n",
    "import os\n",
    "import pandas as pd\n",
    "#read the path\n",
    "file_path = \"C:\\\\Users\\\\Duhovit\\\\Desktop\\\\Calculos\\\\VOLUMEN_MODULOS\"\n",
    "#list all the files from the directory\n",
    "csv_files = os.listdir(file_path)\n",
    "csv_files"
   ]
  },
  {
   "cell_type": "code",
   "execution_count": 8,
   "metadata": {},
   "outputs": [
    {
     "data": {
      "text/html": [
       "<div>\n",
       "<style scoped>\n",
       "    .dataframe tbody tr th:only-of-type {\n",
       "        vertical-align: middle;\n",
       "    }\n",
       "\n",
       "    .dataframe tbody tr th {\n",
       "        vertical-align: top;\n",
       "    }\n",
       "\n",
       "    .dataframe thead th {\n",
       "        text-align: right;\n",
       "    }\n",
       "</style>\n",
       "<table border=\"1\" class=\"dataframe\">\n",
       "  <thead>\n",
       "    <tr style=\"text-align: right;\">\n",
       "      <th></th>\n",
       "      <th>id</th>\n",
       "      <th>valor</th>\n",
       "      <th>id_modulo</th>\n",
       "      <th>timestamp</th>\n",
       "    </tr>\n",
       "  </thead>\n",
       "  <tbody>\n",
       "    <tr>\n",
       "      <th>0</th>\n",
       "      <td>208727</td>\n",
       "      <td>4.500000</td>\n",
       "      <td>1</td>\n",
       "      <td>2023-01-06 19:20:03</td>\n",
       "    </tr>\n",
       "    <tr>\n",
       "      <th>1</th>\n",
       "      <td>208664</td>\n",
       "      <td>4.500000</td>\n",
       "      <td>1</td>\n",
       "      <td>2023-01-06 19:10:03</td>\n",
       "    </tr>\n",
       "    <tr>\n",
       "      <th>2</th>\n",
       "      <td>208601</td>\n",
       "      <td>4.500000</td>\n",
       "      <td>1</td>\n",
       "      <td>2023-01-06 19:00:04</td>\n",
       "    </tr>\n",
       "    <tr>\n",
       "      <th>3</th>\n",
       "      <td>208538</td>\n",
       "      <td>4.500000</td>\n",
       "      <td>1</td>\n",
       "      <td>2023-01-06 18:50:04</td>\n",
       "    </tr>\n",
       "    <tr>\n",
       "      <th>4</th>\n",
       "      <td>208475</td>\n",
       "      <td>4.500000</td>\n",
       "      <td>1</td>\n",
       "      <td>2023-01-06 18:40:03</td>\n",
       "    </tr>\n",
       "    <tr>\n",
       "      <th>...</th>\n",
       "      <td>...</td>\n",
       "      <td>...</td>\n",
       "      <td>...</td>\n",
       "      <td>...</td>\n",
       "    </tr>\n",
       "    <tr>\n",
       "      <th>11560</th>\n",
       "      <td>97411</td>\n",
       "      <td>5.779961</td>\n",
       "      <td>9</td>\n",
       "      <td>2022-12-14 22:30:03</td>\n",
       "    </tr>\n",
       "    <tr>\n",
       "      <th>11561</th>\n",
       "      <td>97364</td>\n",
       "      <td>5.779961</td>\n",
       "      <td>9</td>\n",
       "      <td>2022-12-14 22:20:03</td>\n",
       "    </tr>\n",
       "    <tr>\n",
       "      <th>11562</th>\n",
       "      <td>97317</td>\n",
       "      <td>5.779961</td>\n",
       "      <td>9</td>\n",
       "      <td>2022-12-14 22:10:04</td>\n",
       "    </tr>\n",
       "    <tr>\n",
       "      <th>11563</th>\n",
       "      <td>97270</td>\n",
       "      <td>5.779961</td>\n",
       "      <td>9</td>\n",
       "      <td>2022-12-14 22:00:04</td>\n",
       "    </tr>\n",
       "    <tr>\n",
       "      <th>11564</th>\n",
       "      <td>97223</td>\n",
       "      <td>6.039302</td>\n",
       "      <td>9</td>\n",
       "      <td>2022-12-14 21:50:04</td>\n",
       "    </tr>\n",
       "  </tbody>\n",
       "</table>\n",
       "<p>11565 rows × 4 columns</p>\n",
       "</div>"
      ],
      "text/plain": [
       "           id     valor  id_modulo            timestamp\n",
       "0      208727  4.500000          1  2023-01-06 19:20:03\n",
       "1      208664  4.500000          1  2023-01-06 19:10:03\n",
       "2      208601  4.500000          1  2023-01-06 19:00:04\n",
       "3      208538  4.500000          1  2023-01-06 18:50:04\n",
       "4      208475  4.500000          1  2023-01-06 18:40:03\n",
       "...       ...       ...        ...                  ...\n",
       "11560   97411  5.779961          9  2022-12-14 22:30:03\n",
       "11561   97364  5.779961          9  2022-12-14 22:20:03\n",
       "11562   97317  5.779961          9  2022-12-14 22:10:04\n",
       "11563   97270  5.779961          9  2022-12-14 22:00:04\n",
       "11564   97223  6.039302          9  2022-12-14 21:50:04\n",
       "\n",
       "[11565 rows x 4 columns]"
      ]
     },
     "execution_count": 8,
     "metadata": {},
     "output_type": "execute_result"
    }
   ],
   "source": [
    "df_concat = pd.concat([pd.read_csv(file_path+\"\\\\\"+f) for f in csv_files ], ignore_index=True)\n",
    "df_concat"
   ]
  },
  {
   "cell_type": "code",
   "execution_count": 9,
   "metadata": {},
   "outputs": [],
   "source": [
    "## save concat csv\n",
    "df_concat.to_csv('Combined_files.csv')"
   ]
  }
 ],
 "metadata": {
  "kernelspec": {
   "display_name": "env",
   "language": "python",
   "name": "python3"
  },
  "language_info": {
   "codemirror_mode": {
    "name": "ipython",
    "version": 3
   },
   "file_extension": ".py",
   "mimetype": "text/x-python",
   "name": "python",
   "nbconvert_exporter": "python",
   "pygments_lexer": "ipython3",
   "version": "3.11.1"
  },
  "orig_nbformat": 4,
  "vscode": {
   "interpreter": {
    "hash": "ca2e4422903b67c05fdec7406fa471bda1b2cf8a3c6cb98f2f4bc729179871e0"
   }
  }
 },
 "nbformat": 4,
 "nbformat_minor": 2
}
